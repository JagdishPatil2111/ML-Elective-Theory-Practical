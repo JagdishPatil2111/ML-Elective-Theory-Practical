{
  "nbformat": 4,
  "nbformat_minor": 0,
  "metadata": {
    "colab": {
      "name": "Practical 4.ipynb",
      "provenance": []
    },
    "kernelspec": {
      "name": "python3",
      "display_name": "Python 3"
    },
    "language_info": {
      "name": "python"
    }
  },
  "cells": [
    {
      "cell_type": "markdown",
      "source": [
        "Aim: Write a Python program for implementation of Baye's Theorem."
      ],
      "metadata": {
        "id": "UyLSLg4fWbdR"
      }
    },
    {
      "cell_type": "code",
      "execution_count": 1,
      "metadata": {
        "colab": {
          "base_uri": "https://localhost:8080/"
        },
        "id": "WKyEsiRXWV_A",
        "outputId": "36d5e3f8-78a9-488f-bd87-4649e8e620aa"
      },
      "outputs": [
        {
          "output_type": "stream",
          "name": "stdout",
          "text": [
            "mean and variance of random vector w1 and w2:\n",
            "\n",
            "Mean1:10.4 , Variance1:49.040000000000006, Length of vector w1:5\n",
            "Mean2:23.9 , Variance2:244.68999999999997, Length of vector w2:10\n"
          ]
        }
      ],
      "source": [
        "\"\"\"\n",
        "Q1. Define a function for computing the mean and variance of 1D data. Print\n",
        "mean and variance for two random vectors of length 10 and 5.\n",
        "\"\"\"\n",
        "import numpy as np\n",
        "\n",
        "def MeanVariance(w):\n",
        "  mean = sum(w)/len(w)\n",
        "  variance = sum((w-mean)**2)/len(w)\n",
        "  return mean, variance\n",
        "# random vectors\n",
        "w1 = np.array([1, 4, 12, 15, 20])\n",
        "w2 = np.array([4, 6, 10, 13, 19, 22, 32, 38, 45, 50])\n",
        "# computing mean and variance\n",
        "mean1, var1 = MeanVariance(w1)\n",
        "mean2, var2 = MeanVariance(w2)\n",
        "print('mean and variance of random vector w1 and w2:\\n')\n",
        "print('Mean1:{} , Variance1:{}, Length of vector w1:{}'.\n",
        "      format(mean1, var1, len(w1)))\n",
        "print('Mean2:{} , Variance2:{}, Length of vector w2:{}'.\n",
        "      format(mean2, var2, len(w2)))"
      ]
    },
    {
      "cell_type": "code",
      "source": [
        "\"\"\"\n",
        "Q2. If w1 = [1,3,8,12] with p(w1) =0.6 and w2=[6,9,13,16] with p(w2)=0.4,\n",
        "find the class for test samples 7.8, 9.6 and 11.5 using baye’s rule.\n",
        "\"\"\"\n",
        "w1 = np.array([5, 6, 9, 10, 14, 18, 8, 4, 7, 9])\n",
        "p_w1 = 0.7\n",
        "w2 = np.array([11, 15, 17, 14, 13, 8, 12, 9, 10, 21])\n",
        "p_w2 = 0.3\n",
        "def check_class(x1):\n",
        "  m1, v1 = MeanVariance(w1)\n",
        "  m2, v2 = MeanVariance(w2)\n",
        "  p_x1_w1 = np.exp(-0.5*((x1-m1)/v1))/(np.sqrt(2*np.pi*v1**2))\n",
        "  p_x1_w2 = np.exp(-0.5*((x1-m2)/v2))/(np.sqrt(2*np.pi*v2**2))\n",
        "  p_x1 = p_x1_w1 * p_w1 + p_x1_w2*p_w2 # evidence\n",
        "  p_w1_x1 = p_x1_w1*p_w1/p_x1\n",
        "  p_w2_x1 = p_x1_w2*p_w2/p_x1\n",
        "  if p_w1_x1 > p_w2_x1:\n",
        "    print('data sample {} is belonging to class w1'.format(x1))\n",
        "  else:\n",
        "    print('data sample {} is belonging to class w2'.format(x1))\n",
        "check_class(7.8)\n",
        "check_class(9.6)\n",
        "check_class(11.5)\n"
      ],
      "metadata": {
        "colab": {
          "base_uri": "https://localhost:8080/"
        },
        "id": "R06VptMHZsRq",
        "outputId": "0e5fa8c7-f8b5-40bf-ae1b-fb723d738cdd"
      },
      "execution_count": 2,
      "outputs": [
        {
          "output_type": "stream",
          "name": "stdout",
          "text": [
            "data sample 7.8 is belonging to class w1\n",
            "data sample 9.6 is belonging to class w1\n",
            "data sample 11.5 is belonging to class w1\n"
          ]
        }
      ]
    },
    {
      "cell_type": "code",
      "source": [
        "\"\"\"\n",
        "Q3. Define the function to compute the probability of likelihood and\n",
        "evidence for given 1D data and 1D test sample.\n",
        "\"\"\"\n",
        "w1 = np.array([1, 3, 8, 12])\n",
        "w2 = np.array([6, 9, 13, 16])\n",
        "P_w2 = 0.4\n",
        "def likelihood(x, w, p_w):\n",
        "  m, v = MeanVariance(w)\n",
        "  p_x_w = np.exp(-0.5*((x- m)/v))/(np.sqrt(2*np.pi*v**2))\n",
        "  p_x = p_x_w * p_w\n",
        "  print('data sample:{} dataset:{} likelihood :{} and evidende:{}'.\n",
        "        format(x, w, p_x_w, p_x))\n",
        "\n",
        "# checking the class for test samples\n",
        "likelihood(7.6, w1, 0.6)\n",
        "likelihood(9.6, w1, 0.6)\n",
        "likelihood(11.5, w1, 0.6)\n",
        "likelihood(7.8, w2, 0.4)\n",
        "likelihood(9.6, w2, 0.4)\n",
        "likelihood(11.5, w2, 0.4)"
      ],
      "metadata": {
        "colab": {
          "base_uri": "https://localhost:8080/"
        },
        "id": "FHYeKHeKaaks",
        "outputId": "963106a0-3c6d-4c34-b6a6-f3a2e192d261"
      },
      "execution_count": 3,
      "outputs": [
        {
          "output_type": "stream",
          "name": "stdout",
          "text": [
            "data sample:7.6 dataset:[ 1  3  8 12] likelihood :0.020651805943000534 and evidende:0.01239108356580032\n",
            "data sample:9.6 dataset:[ 1  3  8 12] likelihood :0.019565126404659496 and evidende:0.011739075842795698\n",
            "data sample:11.5 dataset:[ 1  3  8 12] likelihood :0.018585791018506808 and evidende:0.011151474611104084\n",
            "data sample:7.8 dataset:[ 6  9 13 16] likelihood :0.030723041911599608 and evidende:0.012289216764639843\n",
            "data sample:9.6 dataset:[ 6  9 13 16] likelihood :0.02887406993904203 and evidende:0.011549627975616813\n",
            "data sample:11.5 dataset:[ 6  9 13 16] likelihood :0.027042960119025017 and evidende:0.010817184047610007\n"
          ]
        }
      ]
    },
    {
      "cell_type": "code",
      "source": [
        "\"\"\"\n",
        "Q4. If w1= [5,6,9,10,14,18,8,4,7,9] with p(w1)=0.7 and \n",
        "w2=[11,15,17,14,13,8,12,9,10,21] with p(w2)=0.3, find the class for test samples\n",
        "9.5,11.6,14.5,16.3,13.8 and 12.6 using baye’s rule by defining function.\n",
        "\"\"\"\n",
        "w1 = np.array([5, 6, 9, 10, 14, 18, 8, 4, 7, 9])\n",
        "p_w1 = 0.7\n",
        "w2 = np.array([11, 15, 17, 14, 13, 8, 12, 9, 10, 21])\n",
        "p_w2 = 0.3\n",
        "def check_class(x1):\n",
        "  m1, v1 = MeanVariance(w1)\n",
        "  m2, v2 = MeanVariance(w2)\n",
        "  p_x1_w1 = np.exp(-0.5*((x1-m1)/v1))/(np.sqrt(2*np.pi*v1**2))\n",
        "  p_x1_w2 = np.exp(-0.5*((x1-m2)/v2))/(np.sqrt(2*np.pi*v2**2))\n",
        "  p_x1 = p_x1_w1 * p_w1 + p_x1_w2*p_w2 # evidence\n",
        "  p_w1_x1 = p_x1_w1*p_w1/p_x1\n",
        "  p_w2_x1 = p_x1_w2*p_w2/p_x1\n",
        "  if p_w1_x1 > p_w2_x1:\n",
        "    print('data sample {} is belonging to class w1'.format(x1))\n",
        "  else:\n",
        "    print('data sample {} is belonging to class w2'.format(x1))\n",
        "a = [9.5, 11.6, 14.5, 16.3, 13.8, 12.6]\n",
        "for i in a:\n",
        "  check_class(i)"
      ],
      "metadata": {
        "colab": {
          "base_uri": "https://localhost:8080/"
        },
        "id": "lJE0Ixfla1tc",
        "outputId": "52cf554e-0886-4acc-a344-ada46de91fab"
      },
      "execution_count": 4,
      "outputs": [
        {
          "output_type": "stream",
          "name": "stdout",
          "text": [
            "data sample 9.5 is belonging to class w1\n",
            "data sample 11.6 is belonging to class w1\n",
            "data sample 14.5 is belonging to class w1\n",
            "data sample 16.3 is belonging to class w1\n",
            "data sample 13.8 is belonging to class w1\n",
            "data sample 12.6 is belonging to class w1\n"
          ]
        }
      ]
    },
    {
      "cell_type": "code",
      "source": [
        "\"\"\"\n",
        "Q5. Define the function for computing the mean and covariance matrix for\n",
        "2D data. Print the individual mean & co-variance matrix for [[3,5],[8,7],[4,6]]\n",
        "and [[4,7],[8,6],[3,2]].\n",
        "\"\"\"\n",
        "def mean_covar(w1, w2):\n",
        "  m1 = sum(w1)/len(w1)\n",
        "  m2 = sum(w2)/len(w2)\n",
        "  s1 = np.dot((w1-m1).T, (w1-m1))\n",
        "  s2 = np.dot((w2-m2).T, (w2-m2))\n",
        "  covar1 = np.array(s1)\n",
        "  covar2 = np.array(s2)\n",
        "  return m1, m2, s1, s2\n",
        "\n",
        "w1 = np.array([[3, 5], [8, 7], [4, 6]])\n",
        "w2 = np.array([[4, 7], [8, 6], [3, 2]])\n",
        "M1, M2, S1, S2 = mean_covar(w1, w2)\n",
        "print('mean1={} \\ncovariance1=\\n{}'.format(M1, S1))\n",
        "print('mean2={} \\ncovariance2=\\n{}'.format(M2, S2))\n"
      ],
      "metadata": {
        "colab": {
          "base_uri": "https://localhost:8080/"
        },
        "id": "1Q3iPvkBbXCF",
        "outputId": "4334c586-6f1b-43f1-d899-0c2f0d7832af"
      },
      "execution_count": 5,
      "outputs": [
        {
          "output_type": "stream",
          "name": "stdout",
          "text": [
            "mean1=[5. 6.] \n",
            "covariance1=\n",
            "[[14.  5.]\n",
            " [ 5.  2.]]\n",
            "mean2=[5. 5.] \n",
            "covariance2=\n",
            "[[14.  7.]\n",
            " [ 7. 14.]]\n"
          ]
        }
      ]
    },
    {
      "cell_type": "code",
      "source": [
        "\"\"\"\n",
        "Q6. If w1=[[2,4],[4,3],[5,8]] with p(w1)=0.65 and w2=[[4,6],[5,7],[7,10]]\n",
        "with p(w2)=0.35, find the class for test samples [4.5, 5.5], [3.7, 5.8] and\n",
        "[5.5,7.3].\n",
        "\"\"\"\n",
        "w1 = np.array([[2, 4], [4, 3], [5, 8]])\n",
        "p_w1 = 0.65\n",
        "w1 = np.array([[4, 6], [5, 7], [7, 10]])\n",
        "p_w2 = 0.35\n",
        "M1, M2, S1, S2 = mean_covar(w1, w2)\n",
        "def check_class(x_new, m1, S1, m2, S2):\n",
        "  s1_det = np.linalg.det(S1)\n",
        "  s2_det = np.linalg.det(S2)\n",
        "  s1_inv = np.linalg.inv(S1)\n",
        "  s2_inv = np.linalg.inv(S2)\n",
        "  inner_prod1 = np.dot((x_new-M1).T, (s1_inv))\n",
        "  p_x1_w1 = np.exp(-0.5*np.dot(inner_prod1, (x_new-M1))) / np.sqrt(2*np.pi*s1_det)\n",
        "  inner_prod2 = np.dot((x_new-M2).T, (s2_inv))\n",
        "  p_x1_w2 = np.exp(-0.5*np.dot(inner_prod2, (x_new-M2))) / np.sqrt(2*np.pi*s2_det)\n",
        "\n",
        "  p_x1 = p_x1_w1 * p_w1 + p_x1_w2*p_w2 # evidence\n",
        "  p_w1_x1 = p_x1_w1*p_w1/p_x1\n",
        "  p_w2_x1 = p_x1_w2*p_w2/p_x1\n",
        "  if p_w1_x1 > p_w2_x1:\n",
        "    print('data sample {} is belonging to class w1'.format(x_new))\n",
        "  else:\n",
        "    print('data sample {} is belonging to class w2'.format(x_new))\n",
        "x1 = np.array([4.5, 5.5])\n",
        "x2 = np.array([3.7, 7.3])\n",
        "x3 = np.array([5.5, 7.3])\n",
        "\n",
        "check_class(x1, M1, S1, M2, S2)\n",
        "check_class(x2, M1, S1, M2, S2)\n",
        "check_class(x3, M1, S1, M2, S2)"
      ],
      "metadata": {
        "colab": {
          "base_uri": "https://localhost:8080/"
        },
        "id": "6lSSziZZb6mB",
        "outputId": "454d3460-d3d6-4778-963c-9af9741414d4"
      },
      "execution_count": 6,
      "outputs": [
        {
          "output_type": "stream",
          "name": "stdout",
          "text": [
            "data sample [4.5 5.5] is belonging to class w2\n",
            "data sample [3.7 7.3] is belonging to class w2\n",
            "data sample [5.5 7.3] is belonging to class w1\n"
          ]
        }
      ]
    },
    {
      "cell_type": "code",
      "source": [
        "\"\"\"\n",
        "Q7. Define the function to compute the probability of likelihood and\n",
        "evidence for given 2D data and 2D test samples.\n",
        "\"\"\"\n",
        "def likelihood_ev(x_new, m1, S1, m2, S2):\n",
        "  s1_det = np.linalg.det(S1)\n",
        "  s2_det = np.linalg.det(S2)\n",
        "  s1_inv = np.linalg.inv(S1)\n",
        "  s2_inv = np.linalg.inv(S2)\n",
        "  inner_prod1 = np.dot((x_new-M1).T, (s1_inv))\n",
        "  p_x1_w1 = np.exp(-0.5*np.dot(inner_prod1, (x_new-M1))) / np.sqrt(2*np.pi*s1_det) # likelihood\n",
        "  inner_prod2 = np.dot((x_new-M2).T, (s2_inv))\n",
        "  p_x1_w2 = np.exp(-0.5*np.dot(inner_prod2, (x_new-M2))) / np.sqrt(2*np.pi*s2_det) # likelihood\n",
        "  p_x1 = p_x1_w1 * p_w1 + p_x1_w2*p_w2 # evidence\n",
        "  print('data sample:{} likelihood (x1/w1):{} (x1/w2) {} evidence: {}'.\n",
        "        format(x_new,p_x1_w1,p_x1_w2, p_x1))\n",
        "likelihood_ev(x1, M1, S1, M2, S2)\n",
        "likelihood_ev(x2, M1, S1, M2, S2)\n",
        "likelihood_ev(x3, M1, S1, M2, S2)"
      ],
      "metadata": {
        "colab": {
          "base_uri": "https://localhost:8080/"
        },
        "id": "dZ66nKHAcg2L",
        "outputId": "c5dea536-1478-40af-cbcf-533c840c05b0"
      },
      "execution_count": 7,
      "outputs": [
        {
          "output_type": "stream",
          "name": "stdout",
          "text": [
            "data sample:[4.5 5.5] likelihood (x1/w1):0.0003516178160054809 (x1/w2) 0.03174979176307262 evidence: 0.011340978697478979\n",
            "data sample:[3.7 7.3] likelihood (x1/w1):2.0451482908524873e-11 (x1/w2) 0.02046750584056008 evidence: 0.007163627057489491\n",
            "data sample:[5.5 7.3] likelihood (x1/w1):0.058838097206649155 (x1/w2) 0.02669704361753129 evidence: 0.047588728450457904\n"
          ]
        }
      ]
    },
    {
      "cell_type": "code",
      "source": [
        "\"\"\"\n",
        "Q8. If w1=[[6,9],[13,10],[8,11],[14,17],[19,17]] with p(w1)=0.63 and\n",
        "w2=[[11,8],[16,19],[21,18],[22,25],[15,13]] with p(w2)=0.37, find the class for\n",
        "test samples [7.7,9.9],[11,13],[13,16],[14,19],[5,30] using baye’s rule by\n",
        "defining function.\n",
        "\"\"\"\n",
        "def check_class(x_new, m1, S1, m2, S2):\n",
        "  s1_det = np.linalg.det(S1)\n",
        "  s2_det = np.linalg.det(S2)\n",
        "  s1_inv = np.linalg.inv(S1)\n",
        "  s2_inv = np.linalg.inv(S2)\n",
        "  inner_prod1 = np.dot((x_new-M1).T, (s1_inv))\n",
        "  p_x1_w1 = np.exp(-0.5*np.dot(inner_prod1, (x_new-M1))) / np.sqrt(2*np.pi*s1_det) # likelihood\n",
        "  inner_prod2 = np.dot((x_new-M2).T, (s2_inv))\n",
        "  p_x1_w2 = np.exp(-0.5*np.dot(inner_prod2, (x_new-M2))) / np.sqrt(2*np.pi*s2_det) # likelihood\n",
        "  p_x1 = p_x1_w1 * p_w1 + p_x1_w2*p_w2 # evidence\n",
        "  p_w1_x1 = p_x1_w1*p_w1/p_x1\n",
        "  p_w2_x1 = p_x1_w2*p_w2/p_x1\n",
        "  if p_w1_x1 < p_w2_x1:\n",
        "    print('data sample {} is belonging to class w2'.format(x_new))\n",
        "  else:\n",
        "    print('data sample {} is belonging to class w1'.format(x_new))\n",
        "w1 = np.array([[6, 9], [13, 10], [8, 11], [14, 17],\n",
        "[19, 17]])\n",
        "w2 = np.array([[11, 8], [16, 19], [21, 18], [22, 25],\n",
        "[15, 13]])\n",
        "M1, M2, S1, S2 = mean_covar(w1, w2)\n",
        "x1 = np.array([7.7, 9.9])\n",
        "x2 = np.array([11, 13])\n",
        "x3 = np.array([13, 16])\n",
        "x3 = np.array([14, 19])\n",
        "x3 = np.array([5, 30])\n",
        "check_class(x1, M1, S1, M2, S2)\n",
        "check_class(x2, M1, S1, M2, S2)\n",
        "check_class(x3, M1, S1, M2, S2)"
      ],
      "metadata": {
        "colab": {
          "base_uri": "https://localhost:8080/"
        },
        "id": "_fkLBqzcdEsU",
        "outputId": "7f9a2231-364c-47c0-ff97-3eb07fdd7de4"
      },
      "execution_count": 8,
      "outputs": [
        {
          "output_type": "stream",
          "name": "stdout",
          "text": [
            "data sample [7.7 9.9] is belonging to class w1\n",
            "data sample [11 13] is belonging to class w1\n",
            "data sample [ 5 30] is belonging to class w1\n"
          ]
        }
      ]
    }
  ]
}