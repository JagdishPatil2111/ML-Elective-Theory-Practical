{
  "nbformat": 4,
  "nbformat_minor": 0,
  "metadata": {
    "colab": {
      "name": "ML Practical 11.ipynb",
      "provenance": []
    },
    "kernelspec": {
      "name": "python3",
      "display_name": "Python 3"
    },
    "language_info": {
      "name": "python"
    }
  },
  "cells": [
    {
      "cell_type": "markdown",
      "source": [
        "\n",
        "\n",
        "*   Name: Jagdish Bhagwan Patil\n",
        "*   Reg. No: 2019BEC002\n",
        "\n",
        "\n",
        "*   Roll No.: B-03\n",
        "*   Aim: Write a python program for implementation of k-nearest neighbor algorithm.\n",
        "\n",
        "\n",
        "\n",
        " "
      ],
      "metadata": {
        "id": "oh73aIH55gv1"
      }
    },
    {
      "cell_type": "code",
      "source": [
        "import numpy as np\n",
        "\n",
        "def KNN_for_1D(w1,w2,xtest,k):\n",
        "    count1=0\n",
        "    count2=0\n",
        "    d1=np.zeros(len(w1))\n",
        "    d2=np.zeros(len(w2))\n",
        "    \n",
        "    for i in range(len(w1)):\n",
        "        d1[i]=abs(xtest-w1[i])\n",
        "        d2[i]=abs(xtest-w2[i])\n",
        "    \n",
        "    D=[]\n",
        "    D=np.append(d1,d2)\n",
        "    D=sorted(D)\n",
        "\n",
        "    for i in range(k):\n",
        "        for j in range(len(d1)):\n",
        "            if(D[i]==d1[j]):\n",
        "                count1+=1\n",
        "            \n",
        "            if(D[i]==d2[j]):\n",
        "                count2+=1\n",
        "\n",
        "    if(count1<count2):\n",
        "        print(f\"Assigning class: w2 for the xtest={xtest} & k={k}\")\n",
        "    \n",
        "    else:\n",
        "        print(f\"Assigning class: w1 for the xtest={xtest} & k={k}\")\n",
        "\n",
        "\n",
        "def KNN_for_2D(w1,w2,xtest,k):\n",
        "    count1=0\n",
        "    count2=0\n",
        "    d1=np.zeros(len(w1))\n",
        "    d2=np.zeros(len(w2))\n",
        "    \n",
        "    for i in range(len(w1)):\n",
        "        d1[i]=abs(np.sqrt( ((xtest[0]-w1[i][0])*2) + ((xtest[1]-w1[i][1])*2) ))\n",
        "        d2[i]=abs(np.sqrt( ((xtest[0]-w2[i][0])*2) + ((xtest[1]-w2[i][1])*2) ))\n",
        "\n",
        "    D=[]\n",
        "    D=np.append(d1,d2)\n",
        "    D=sorted(D)\n",
        "\n",
        "    for i in range(k):\n",
        "        for j in range(len(d1)):\n",
        "            if(D[i]==d1[j]):\n",
        "                count1+=1\n",
        "            \n",
        "            if(D[i]==d2[j]):\n",
        "                count2+=1\n",
        "\n",
        "    if(count1<count2):\n",
        "        print(f\"Assigning class: w2 for the xtest={xtest} & k={k}\")\n",
        "    \n",
        "    else:\n",
        "        print(f\"Assigning class: w1 for the xtest={xtest} & k={k}\")"
      ],
      "metadata": {
        "id": "fcBBN67k8RNJ"
      },
      "execution_count": 1,
      "outputs": []
    },
    {
      "cell_type": "code",
      "execution_count": 2,
      "metadata": {
        "colab": {
          "base_uri": "https://localhost:8080/"
        },
        "id": "vfV7Yzyw5OJw",
        "outputId": "20a6e8a5-0115-411a-cc0a-747e341f2db2"
      },
      "outputs": [
        {
          "output_type": "stream",
          "name": "stdout",
          "text": [
            "Xtest=3.3\n",
            "Assigning class: w1 for the xtest=3.3 & k=3\n",
            "Assigning class: w1 for the xtest=3.3 & k=5\n",
            "Assigning class: w1 for the xtest=3.3 & k=7\n",
            "\n",
            "Xtest=1.9\n",
            "Assigning class: w1 for the xtest=1.9 & k=3\n",
            "Assigning class: w1 for the xtest=1.9 & k=5\n",
            "Assigning class: w1 for the xtest=1.9 & k=7\n",
            "\n",
            "Xtest=8.6\n",
            "Assigning class: w2 for the xtest=8.6 & k=3\n",
            "Assigning class: w2 for the xtest=8.6 & k=5\n",
            "Assigning class: w2 for the xtest=8.6 & k=7\n",
            "\n",
            "Xtest=4.1\n",
            "Assigning class: w2 for the xtest=4.1 & k=3\n",
            "Assigning class: w1 for the xtest=4.1 & k=5\n",
            "Assigning class: w1 for the xtest=4.1 & k=7\n"
          ]
        }
      ],
      "source": [
        "\"\"\"\n",
        "Q1. Classify the test sample for given 1D data using knn with k values as 3, 5 \n",
        "and 7. w1= [1.4,3.6,4.7,2.8,7.4,5.3,6.7,3.2,4.8], \n",
        "w2=[4.5,3.7,2.4,7.8,9.3,7.0,6.4,8.3,5.1], x_test= 3.3, 1.9, 8.6 & 4.1\n",
        "\"\"\"\n",
        "w1=[1.4,3.6,4.7,2.8,7.4,5.3,6.7,3.2,4.8]\n",
        "w2=[4.5,3.7,2.4,7.8,9.3,7.0,6.4,8.3,5.1]\n",
        "\n",
        "print(\"Xtest=3.3\")\n",
        "KNN_for_1D(w1,w2,3.3,3)\n",
        "KNN_for_1D(w1,w2,3.3,5)\n",
        "KNN_for_1D(w1,w2,3.3,7)\n",
        "\n",
        "print(\"\\nXtest=1.9\")\n",
        "KNN_for_1D(w1,w2,1.9,3)\n",
        "KNN_for_1D(w1,w2,1.9,5)\n",
        "KNN_for_1D(w1,w2,1.9,7)\n",
        "\n",
        "print(\"\\nXtest=8.6\")\n",
        "KNN_for_1D(w1,w2,8.6,3)\n",
        "KNN_for_1D(w1,w2,8.6,5)\n",
        "KNN_for_1D(w1,w2,8.6,7)\n",
        "\n",
        "print(\"\\nXtest=4.1\")\n",
        "KNN_for_1D(w1,w2,4.1,3)\n",
        "KNN_for_1D(w1,w2,4.1,5)\n",
        "KNN_for_1D(w1,w2,4.1,7)"
      ]
    },
    {
      "cell_type": "code",
      "source": [
        "\"\"\"\n",
        "Q2. Classify the test sample for given 2D data using knn with k values as 3, 5 \n",
        "and 7. w1={[1,1.7],[1,2],[2,3],[1.5,3.1],[2.4,3.6],[1.8,2.7]}, \n",
        "w2={[1,1.5],[1.5,2],[0.5,1],[0.9,1.6],[3,4.1],[2,2.7]}, \n",
        "x_test= [1.7,3.2],[1.2,4.5], [2.6,3.8] & [0.8, 2.5]\n",
        "\"\"\"\n",
        "w1=[[1,1.7],[1,2],[2,3],[1.5,3.1],[2.4,3.6],[1.8,2.7]]\n",
        "w2=[[1,1.5],[1.5,2],[0.5,1],[0.9,1.6],[3,4.1],[2,2.7]]\n",
        "\n",
        "xtest1=[1.7,3.2];\n",
        "xtest2=[1.2,4.5];\n",
        "xtest3=[2.6,3.8]\n",
        "xtest4=[0.8, 2.5]\n",
        "\n",
        "print(\"Xtest=[1.7,3.2]\")\n",
        "KNN_for_2D(w1,w2,xtest1,3)\n",
        "KNN_for_2D(w1,w2,xtest1,5)\n",
        "KNN_for_2D(w1,w2,xtest1,7)\n",
        "\n",
        "print(\"\\nXtest=[1.2,4.5]\")\n",
        "KNN_for_2D(w1,w2,xtest2,3)\n",
        "KNN_for_2D(w1,w2,xtest2,5)\n",
        "KNN_for_2D(w1,w2,xtest2,7)\n",
        "\n",
        "print(\"\\nXtest=[2.6,3.8]\")\n",
        "KNN_for_2D(w1,w2,xtest3,3)\n",
        "KNN_for_2D(w1,w2,xtest3,5)\n",
        "KNN_for_2D(w1,w2,xtest3,7)\n",
        "\n",
        "print(\"\\nXtest=[0.8, 2.5]\")\n",
        "KNN_for_2D(w1,w2,xtest4,3)\n",
        "KNN_for_2D(w1,w2,xtest4,5)\n",
        "KNN_for_2D(w1,w2,xtest4,7)"
      ],
      "metadata": {
        "colab": {
          "base_uri": "https://localhost:8080/"
        },
        "id": "I1Ot9iT66pbY",
        "outputId": "e719710e-eea1-4f65-ed36-d8d95a87a163"
      },
      "execution_count": 3,
      "outputs": [
        {
          "output_type": "stream",
          "name": "stdout",
          "text": [
            "Xtest=[1.7,3.2]\n",
            "Assigning class: w1 for the xtest=[1.7, 3.2] & k=3\n",
            "Assigning class: w1 for the xtest=[1.7, 3.2] & k=5\n",
            "Assigning class: w1 for the xtest=[1.7, 3.2] & k=7\n",
            "\n",
            "Xtest=[1.2,4.5]\n",
            "Assigning class: w1 for the xtest=[1.2, 4.5] & k=3\n",
            "Assigning class: w1 for the xtest=[1.2, 4.5] & k=5\n",
            "Assigning class: w1 for the xtest=[1.2, 4.5] & k=7\n",
            "\n",
            "Xtest=[2.6,3.8]\n",
            "Assigning class: w1 for the xtest=[2.6, 3.8] & k=3\n",
            "Assigning class: w1 for the xtest=[2.6, 3.8] & k=5\n",
            "Assigning class: w1 for the xtest=[2.6, 3.8] & k=7\n",
            "\n",
            "Xtest=[0.8, 2.5]\n",
            "Assigning class: w1 for the xtest=[0.8, 2.5] & k=3\n",
            "Assigning class: w1 for the xtest=[0.8, 2.5] & k=5\n",
            "Assigning class: w1 for the xtest=[0.8, 2.5] & k=7\n"
          ]
        },
        {
          "output_type": "stream",
          "name": "stderr",
          "text": [
            "/usr/local/lib/python3.7/dist-packages/ipykernel_launcher.py:39: RuntimeWarning: invalid value encountered in sqrt\n",
            "/usr/local/lib/python3.7/dist-packages/ipykernel_launcher.py:40: RuntimeWarning: invalid value encountered in sqrt\n"
          ]
        }
      ]
    },
    {
      "cell_type": "code",
      "source": [
        "\"\"\"\n",
        "Q3. Generate the random 1D data consisting of 100 samples in any desired range \n",
        "for two class. Vary the ‘k’ value [3,5,7,9] and find the class for 5 random test \n",
        "sample.\n",
        "\"\"\"\n",
        "w1=8*np.random.rand(100);\n",
        "w2=12*np.random.rand(100)\n",
        "\n",
        "xtest1=1.56\n",
        "xtest2=4.20\n",
        "xtest3=0.156\n",
        "xtest4=2.145\n",
        "xtest5=3.234\n",
        "\n",
        "print(\"xtest=1.56\")\n",
        "KNN_for_1D(w1,w2,xtest1,3)\n",
        "KNN_for_1D(w1,w2,xtest1,5)\n",
        "KNN_for_1D(w1,w2,xtest1,7)\n",
        "KNN_for_1D(w1,w2,xtest1,9)\n",
        "\n",
        "print(\"\\nxtest=4.20\")\n",
        "KNN_for_1D(w1,w2,xtest2,3)\n",
        "KNN_for_1D(w1,w2,xtest2,5)\n",
        "KNN_for_1D(w1,w2,xtest2,7)\n",
        "KNN_for_1D(w1,w2,xtest2,9)\n",
        "\n",
        "print(\"\\nxtest=0.156\")\n",
        "KNN_for_1D(w1,w2,xtest3,3)\n",
        "KNN_for_1D(w1,w2,xtest3,5)\n",
        "KNN_for_1D(w1,w2,xtest3,7)\n",
        "KNN_for_1D(w1,w2,xtest3,9)\n",
        "\n",
        "print(\"\\nxtest=2.145\")\n",
        "KNN_for_1D(w1,w2,xtest4,3)\n",
        "KNN_for_1D(w1,w2,xtest4,5)\n",
        "KNN_for_1D(w1,w2,xtest4,7)\n",
        "KNN_for_1D(w1,w2,xtest4,9)\n",
        "\n",
        "print(\"\\nxtest=3.234\")\n",
        "KNN_for_1D(w1,w2,xtest5,3)\n",
        "KNN_for_1D(w1,w2,xtest5,5)\n",
        "KNN_for_1D(w1,w2,xtest5,7)\n",
        "KNN_for_1D(w1,w2,xtest5,9)"
      ],
      "metadata": {
        "colab": {
          "base_uri": "https://localhost:8080/"
        },
        "id": "DXGrHjrl7QVu",
        "outputId": "368ce4f1-d98a-4d00-8c0a-29fefb3ba870"
      },
      "execution_count": 4,
      "outputs": [
        {
          "output_type": "stream",
          "name": "stdout",
          "text": [
            "xtest=1.56\n",
            "Assigning class: w2 for the xtest=1.56 & k=3\n",
            "Assigning class: w2 for the xtest=1.56 & k=5\n",
            "Assigning class: w1 for the xtest=1.56 & k=7\n",
            "Assigning class: w1 for the xtest=1.56 & k=9\n",
            "\n",
            "xtest=4.20\n",
            "Assigning class: w1 for the xtest=4.2 & k=3\n",
            "Assigning class: w1 for the xtest=4.2 & k=5\n",
            "Assigning class: w1 for the xtest=4.2 & k=7\n",
            "Assigning class: w1 for the xtest=4.2 & k=9\n",
            "\n",
            "xtest=0.156\n",
            "Assigning class: w2 for the xtest=0.156 & k=3\n",
            "Assigning class: w1 for the xtest=0.156 & k=5\n",
            "Assigning class: w1 for the xtest=0.156 & k=7\n",
            "Assigning class: w1 for the xtest=0.156 & k=9\n",
            "\n",
            "xtest=2.145\n",
            "Assigning class: w1 for the xtest=2.145 & k=3\n",
            "Assigning class: w1 for the xtest=2.145 & k=5\n",
            "Assigning class: w1 for the xtest=2.145 & k=7\n",
            "Assigning class: w1 for the xtest=2.145 & k=9\n",
            "\n",
            "xtest=3.234\n",
            "Assigning class: w1 for the xtest=3.234 & k=3\n",
            "Assigning class: w1 for the xtest=3.234 & k=5\n",
            "Assigning class: w1 for the xtest=3.234 & k=7\n",
            "Assigning class: w2 for the xtest=3.234 & k=9\n"
          ]
        }
      ]
    }
  ]
}