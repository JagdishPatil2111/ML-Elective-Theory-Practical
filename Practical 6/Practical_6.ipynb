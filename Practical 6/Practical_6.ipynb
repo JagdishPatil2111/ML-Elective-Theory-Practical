{
  "nbformat": 4,
  "nbformat_minor": 0,
  "metadata": {
    "colab": {
      "name": "Practical 6.ipynb",
      "provenance": [],
      "collapsed_sections": []
    },
    "kernelspec": {
      "name": "python3",
      "display_name": "Python 3"
    },
    "language_info": {
      "name": "python"
    }
  },
  "cells": [
    {
      "cell_type": "markdown",
      "source": [
        "Aim: Write a python program to implement Naïve Bayes Classifier."
      ],
      "metadata": {
        "id": "fzWNkjohnlzw"
      }
    },
    {
      "cell_type": "markdown",
      "source": [
        "Note: For first 3 questions use Table 1 and for remaining questions use Table 2(Tables are attached herewith)."
      ],
      "metadata": {
        "id": "9PIvHH3koLAd"
      }
    },
    {
      "cell_type": "code",
      "execution_count": 3,
      "metadata": {
        "colab": {
          "base_uri": "https://localhost:8080/"
        },
        "id": "Cexanh25nckB",
        "outputId": "b7e36964-2c02-4d56-d3b5-6c399dcb5b3b"
      },
      "outputs": [
        {
          "output_type": "stream",
          "name": "stdout",
          "text": [
            "food is tasty.\n",
            "Probability of food is tasty: 0.022222222222222216\n",
            "Probability of food is not tasty: 0.0\n"
          ]
        }
      ],
      "source": [
        "\"\"\"\n",
        "Q1. If Cook is Sita, Mood is Bad and preparing Continental food, is food tasty? \n",
        "\"\"\"\n",
        "import numpy as np\n",
        "cook_list = np.array([1, 1, 2, 2, 3, 3, 2, 2, 3, 3])\n",
        "mood_list = np.array([0, 1, 0, 1, 0, 1, 0, 1, 1, 1])\n",
        "cuisine_list = np.array([1, 0, 1, 1, 1, 0, 0, 0, 1, 0])\n",
        "taste_list = np.array([1, 1, 0, 1, 1, 0, 0, 1, 1, 0])\n",
        "\n",
        "def naive_bayes_classifier_food(cook, mood, cuisine):\n",
        "  tasty_count = np.sum(taste_list)\n",
        "  not_tasty_count = len(taste_list) - tasty_count\n",
        "  prob_tasty = tasty_count / len(taste_list)\n",
        "  prob_not_tasty = 1 - prob_tasty\n",
        "  cnt1, cnt2, cnt3 = 0, 0, 0\n",
        "  for i in range(len(taste_list)):\n",
        "    if cook_list[i] == cook and taste_list[i] == 1:\n",
        "      cnt1 += 1\n",
        "    if mood_list[i] == mood and taste_list[i] == 1:\n",
        "      cnt2 += 1\n",
        "    if cuisine_list[i] == cuisine and taste_list[i] == 1:\n",
        "      cnt3 += 1\n",
        "  prob_11 = cnt1/tasty_count\n",
        "  prob_12 = cnt2/tasty_count\n",
        "  prob_13 = cnt3/tasty_count\n",
        "  cnt1, cnt2, cnt3 = 0, 0, 0\n",
        "  for i in range(len(taste_list)):\n",
        "    if cook_list[i] == cook and taste_list[i] == 0:\n",
        "      cnt1 += 1\n",
        "    if mood_list[i] == mood and taste_list[i] == 0:\n",
        "      cnt2 += 1\n",
        "    if cuisine_list[i] == cuisine and taste_list[i] == 0:\n",
        "      cnt3 += 1\n",
        "  prob_21 = cnt1/not_tasty_count\n",
        "  prob_22 = cnt2/not_tasty_count\n",
        "  prob_23 = cnt3/not_tasty_count\n",
        "  prob_tasty_x = prob_tasty*prob_11*prob_12*prob_13\n",
        "  prob_not_tasty_x = prob_not_tasty*prob_21*prob_22*prob_23\n",
        "  if prob_tasty_x > prob_not_tasty_x:\n",
        "    print('food is tasty.')\n",
        "  else:\n",
        "    print('food is not tasty.')\n",
        "  print(\"Probability of food is tasty:\", prob_tasty_x)\n",
        "  print(\"Probability of food is not tasty:\", prob_not_tasty_x)\n",
        "\n",
        "naive_bayes_classifier_food(1, 0, 0)"
      ]
    },
    {
      "cell_type": "code",
      "source": [
        "\"\"\"\n",
        "Q2. If Cook is Asha for above case, is food tasty?\n",
        "\"\"\"\n",
        "naive_bayes_classifier_food(2, 0, 0)"
      ],
      "metadata": {
        "colab": {
          "base_uri": "https://localhost:8080/"
        },
        "id": "p2ODbGnEpTqb",
        "outputId": "c00364cd-4fe0-4463-d1f1-fcac753fc217"
      },
      "execution_count": 4,
      "outputs": [
        {
          "output_type": "stream",
          "name": "stdout",
          "text": [
            "food is not tasty.\n",
            "Probability of food is tasty: 0.022222222222222216\n",
            "Probability of food is not tasty: 0.07500000000000001\n"
          ]
        }
      ]
    },
    {
      "cell_type": "code",
      "source": [
        "\"\"\"\n",
        "Q3. If Cook is Usha, Mood is Bad and preparing Continental food, is food tasty?\n",
        "\"\"\"\n",
        "naive_bayes_classifier_food(3, 0, 0)"
      ],
      "metadata": {
        "colab": {
          "base_uri": "https://localhost:8080/"
        },
        "id": "OB7dBW_lpa3r",
        "outputId": "95d9b875-0c65-40b9-8db0-cc4394c487ac"
      },
      "execution_count": 5,
      "outputs": [
        {
          "output_type": "stream",
          "name": "stdout",
          "text": [
            "food is not tasty.\n",
            "Probability of food is tasty: 0.022222222222222216\n",
            "Probability of food is not tasty: 0.07500000000000001\n"
          ]
        }
      ]
    },
    {
      "cell_type": "code",
      "source": [
        "\"\"\"\n",
        "Q4. If car Color is Red, Type is Sedan and Origin is Domestic, was car stolen?\n",
        "\"\"\"\n",
        "color_list = np.array([1, 1, 2, 2, 3, 3, 1, 3, 2, 2])\n",
        "type_list = np.array([1, 0, 2, 0, 2, 1, 0, 1, 0, 2])\n",
        "origin_list = np.array([1, 0, 1, 1, 0, 0, 1, 1, 0, 1])\n",
        "stolen_list = np.array([1, 1, 0, 0, 1, 1, 0, 0, 1, 1])\n",
        "\n",
        "def naive_bayes_classifier_car(color, car_type, origin):\n",
        "  stolen_count = np.sum(stolen_list)\n",
        "  not_stolen_count = len(stolen_list) - stolen_count\n",
        "  prob_stolen = stolen_count / len(stolen_list)\n",
        "  prob_not_stolen = 1 - prob_stolen\n",
        "  cnt1, cnt2, cnt3 = 0, 0, 0\n",
        "  for i in range(len(stolen_list)):\n",
        "    if color_list[i] == color and stolen_list[i] == 1:\n",
        "      cnt1 += 1\n",
        "    if type_list[i] == car_type and stolen_list[i] == 1:\n",
        "      cnt2 += 1\n",
        "    if origin_list[i] == origin and stolen_list[i] == 1:\n",
        "      cnt3 += 1\n",
        "  prob_11 = cnt1/stolen_count\n",
        "  prob_12 = cnt2/stolen_count\n",
        "  prob_13 = cnt3/stolen_count\n",
        "  cnt1, cnt2, cnt3 = 0, 0, 0\n",
        "  for i in range(len(stolen_list)):\n",
        "    if color_list[i] == color and stolen_list[i] == 0:\n",
        "      cnt1 += 1\n",
        "    if type_list[i] == car_type and stolen_list[i] == 0:\n",
        "      cnt2 += 1\n",
        "    if origin_list[i] == origin and stolen_list[i] == 0:\n",
        "      cnt3 += 1\n",
        "  prob_21 = cnt1/not_stolen_count\n",
        "  prob_22 = cnt2/not_stolen_count\n",
        "  prob_23 = cnt3/not_stolen_count\n",
        "  prob_stolen_x = prob_stolen*prob_11*prob_12*prob_13\n",
        "  prob_not_stolen_x = prob_not_stolen*prob_21*prob_22*prob_23\n",
        "  if prob_stolen_x > prob_not_stolen_x:\n",
        "    print('Car was stolen.')\n",
        "  else:\n",
        "    print('Car was not stolen.')\n",
        "  print(\"Probability of car was stolen:\", prob_stolen_x)\n",
        "  print(\"Probability of car was not stolen:\", prob_not_stolen_x)\n",
        "\n",
        "naive_bayes_classifier_car(1, 2, 1)"
      ],
      "metadata": {
        "colab": {
          "base_uri": "https://localhost:8080/"
        },
        "id": "uY4VvGk5pgsb",
        "outputId": "2b0e0681-169b-489f-bd73-4ab2e4613e33"
      },
      "execution_count": 6,
      "outputs": [
        {
          "output_type": "stream",
          "name": "stdout",
          "text": [
            "Car was not stolen.\n",
            "Probability of car was stolen: 0.022222222222222216\n",
            "Probability of car was not stolen: 0.025\n"
          ]
        }
      ]
    },
    {
      "cell_type": "code",
      "source": [
        "\"\"\"\n",
        "Q5. If car Color is White, Type is SUV and Origin is Imported, was car stolen?\n",
        "\"\"\"\n",
        "naive_bayes_classifier_car(3, 0, 0)"
      ],
      "metadata": {
        "colab": {
          "base_uri": "https://localhost:8080/"
        },
        "id": "qOC2-xxCsbRi",
        "outputId": "addc324d-e62c-4d56-c14d-a43c1f7e8b3e"
      },
      "execution_count": 7,
      "outputs": [
        {
          "output_type": "stream",
          "name": "stdout",
          "text": [
            "Car was stolen.\n",
            "Probability of car was stolen: 0.04444444444444443\n",
            "Probability of car was not stolen: 0.0\n"
          ]
        }
      ]
    },
    {
      "cell_type": "code",
      "source": [
        "\"\"\"\n",
        "Q6. If car Color is Blue, Type is Sports and Origin is Domestic, was car stolen?\n",
        "\"\"\"\n",
        "naive_bayes_classifier_car(2, 1, 1)"
      ],
      "metadata": {
        "colab": {
          "base_uri": "https://localhost:8080/"
        },
        "id": "9S-BLhG2s2vv",
        "outputId": "2a49b682-77a8-4769-8ff2-680476b5dfc9"
      },
      "execution_count": 8,
      "outputs": [
        {
          "output_type": "stream",
          "name": "stdout",
          "text": [
            "Car was not stolen.\n",
            "Probability of car was stolen: 0.022222222222222216\n",
            "Probability of car was not stolen: 0.05\n"
          ]
        }
      ]
    },
    {
      "cell_type": "code",
      "source": [
        "\"\"\"\n",
        "Q7. If car Color is White, Type is Sedan and Origin is Domestic, was car stolen?\n",
        "\"\"\"\n",
        "naive_bayes_classifier_car(3, 2, 1)"
      ],
      "metadata": {
        "colab": {
          "base_uri": "https://localhost:8080/"
        },
        "id": "r5JArmwZtA9f",
        "outputId": "17ee0f80-9fb0-48e3-c2df-8935267d4b39"
      },
      "execution_count": 9,
      "outputs": [
        {
          "output_type": "stream",
          "name": "stdout",
          "text": [
            "Car was not stolen.\n",
            "Probability of car was stolen: 0.022222222222222216\n",
            "Probability of car was not stolen: 0.025\n"
          ]
        }
      ]
    },
    {
      "cell_type": "code",
      "source": [
        "\"\"\"\n",
        "Q8. If car Color is Blue, Type is Sports and Origin is Imported, was car stolen?\n",
        "\"\"\"\n",
        "naive_bayes_classifier_car(2, 1, 0)"
      ],
      "metadata": {
        "colab": {
          "base_uri": "https://localhost:8080/"
        },
        "id": "MERYnlEAtIk_",
        "outputId": "e70ca3c8-fce0-4f6e-cc8f-386a6f09d9d3"
      },
      "execution_count": 11,
      "outputs": [
        {
          "output_type": "stream",
          "name": "stdout",
          "text": [
            "Car was stolen.\n",
            "Probability of car was stolen: 0.04444444444444443\n",
            "Probability of car was not stolen: 0.0\n"
          ]
        }
      ]
    },
    {
      "cell_type": "code",
      "source": [
        "\"\"\"\n",
        "Q9. If car Color is Red, Type is Sedan and Origin is Domestic, was car stolen?\n",
        "\"\"\"\n",
        "naive_bayes_classifier_car(1, 2, 1)"
      ],
      "metadata": {
        "colab": {
          "base_uri": "https://localhost:8080/"
        },
        "id": "iun_0R0GtS66",
        "outputId": "387c1fce-0863-4ee6-bcd7-96d3624735f5"
      },
      "execution_count": 10,
      "outputs": [
        {
          "output_type": "stream",
          "name": "stdout",
          "text": [
            "Car was not stolen.\n",
            "Probability of car was stolen: 0.022222222222222216\n",
            "Probability of car was not stolen: 0.025\n"
          ]
        }
      ]
    }
  ]
}