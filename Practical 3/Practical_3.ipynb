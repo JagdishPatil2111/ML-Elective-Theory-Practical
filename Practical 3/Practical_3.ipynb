{
  "nbformat": 4,
  "nbformat_minor": 0,
  "metadata": {
    "colab": {
      "name": "Practical 3.ipynb",
      "provenance": []
    },
    "kernelspec": {
      "name": "python3",
      "display_name": "Python 3"
    },
    "language_info": {
      "name": "python"
    }
  },
  "cells": [
    {
      "cell_type": "markdown",
      "source": [
        "Aim: Write a Python program for Linear Regression Modelling."
      ],
      "metadata": {
        "id": "HrH3fE7qCwBS"
      }
    },
    {
      "cell_type": "code",
      "execution_count": 1,
      "metadata": {
        "colab": {
          "base_uri": "https://localhost:8080/"
        },
        "id": "oglduKLSBUi_",
        "outputId": "bccbcd9c-17f9-453f-c614-1741efba19dc"
      },
      "outputs": [
        {
          "output_type": "stream",
          "name": "stdout",
          "text": [
            "[[1 5]\n",
            " [2 4]\n",
            " [9 5]\n",
            " [5 4]\n",
            " [7 6]\n",
            " [8 8]\n",
            " [6 6]\n",
            " [9 1]\n",
            " [2 8]\n",
            " [7 8]]\n",
            "(10, 2)\n",
            "input :-  [1, 2, 9, 5, 7, 8, 6, 9, 2, 7]\n",
            "output :-  [5, 4, 5, 4, 6, 8, 6, 1, 8, 8]\n"
          ]
        }
      ],
      "source": [
        "\"\"\"\n",
        "Q1. Create own dataset containing (10 rows and 2 column). Print the\n",
        "dataset.\n",
        "\"\"\"\n",
        "import numpy as np\n",
        "myDataset = np.array([[1,5],[2,4],[9,5],[5,4],[7,6],[8,8],[6,6],[9,1],\n",
        "                      [2,8],[7,8]])\n",
        "print(myDataset)\n",
        "print(myDataset.shape)\n",
        "x = [row[0] for row in myDataset]\n",
        "print('input :- ', x)\n",
        "y = [row[1] for row in myDataset]\n",
        "print('output :- ', y)"
      ]
    },
    {
      "cell_type": "code",
      "source": [
        "\"\"\"\n",
        "Q2. Define the functions for computing mean, variance and co-variance\n",
        "and also print the respective values for given dataset.\n",
        "\"\"\"\n",
        "def mean(values):\n",
        "  return(sum(values)/len(values))\n",
        "\n",
        "x_mean = mean(x)\n",
        "y_mean = mean(y)\n",
        "print('mean of x : ', x_mean)\n",
        "print('mean of y : ', y_mean)\n",
        "def covar(x,x_mean,y,y_mean):\n",
        "  cov = 0.0\n",
        "  for i in range(len(x)):\n",
        "    cov += (x[i]-x_mean)*(y[i]-y_mean)\n",
        "  return cov\n",
        "cv = covar(x, x_mean, y, y_mean)\n",
        "print('co-variance between x and y is : ', cv)\n",
        "\n",
        "# Function for computing variance of list\n",
        "def variance(values, mean):\n",
        "  return sum([(x-mean)**2 for x in values])\n",
        "print('variance of x is : ', variance(x, x_mean))"
      ],
      "metadata": {
        "colab": {
          "base_uri": "https://localhost:8080/"
        },
        "id": "HqKyY9aJGld5",
        "outputId": "3036c56e-0178-4669-9b6f-01f3447f97f8"
      },
      "execution_count": 5,
      "outputs": [
        {
          "output_type": "stream",
          "name": "stdout",
          "text": [
            "mean of x :  5.6\n",
            "mean of y :  5.5\n",
            "co-variance between x and y is :  -6.999999999999999\n",
            "variance of x is :  80.39999999999999\n"
          ]
        }
      ]
    },
    {
      "cell_type": "code",
      "source": [
        "\"\"\"\n",
        "Q3. Compute the linear regression coefficients using function and print it.\n",
        "\"\"\"\n",
        "def coefficients(myDataset):\n",
        "  x = [row[0] for row in myDataset]\n",
        "  y = [row[1] for row in myDataset]\n",
        "  x_mean, y_mean = mean(x), mean(y)\n",
        "  b1 = covar(x, x_mean, y, y_mean) / variance(x, x_mean)\n",
        "  b0 = y_mean-b1*x_mean\n",
        "  return [b0, b1]\n",
        "b0, b1 = coefficients(myDataset)\n",
        "print('coefficient : b0=%.3f, b1=%.3f' % (b0, b1))"
      ],
      "metadata": {
        "colab": {
          "base_uri": "https://localhost:8080/"
        },
        "id": "gctmPmCLJPCR",
        "outputId": "351032bc-1ad6-4ade-e0cb-ce5b97f11630"
      },
      "execution_count": 6,
      "outputs": [
        {
          "output_type": "stream",
          "name": "stdout",
          "text": [
            "coefficient : b0=5.988, b1=-0.087\n"
          ]
        }
      ]
    },
    {
      "cell_type": "code",
      "source": [
        "\"\"\"\n",
        "Q4. Plot the variables containing the values from dataset. Also plot the\n",
        "linear regression line using coefficients.\n",
        "\"\"\"\n",
        "from matplotlib import pyplot as plt\n",
        "plt.subplot(2,2,1)\n",
        "plt.plot(x, y,'r*')\n",
        "# linear regression\n",
        "import numpy as np\n",
        "yN = np.zeros(len(x))\n",
        "for i in range(len(x)):\n",
        "  yN[i] = b0 + b1 * (x[i])\n",
        "plt.subplot(2,2,2)\n",
        "plt.scatter(x,y)\n",
        "plt.plot(x, yN, 'r--')\n",
        "plt.xlabel('x-axis')\n",
        "plt.ylabel('y-axis')\n",
        "plt.title('linear regression')"
      ],
      "metadata": {
        "colab": {
          "base_uri": "https://localhost:8080/",
          "height": 194
        },
        "id": "TtlnBSwMJmLE",
        "outputId": "308a4cd1-e6bb-445b-9011-1b2608cc913d"
      },
      "execution_count": 10,
      "outputs": [
        {
          "output_type": "execute_result",
          "data": {
            "text/plain": [
              "Text(0.5, 1.0, 'linear regression')"
            ]
          },
          "metadata": {},
          "execution_count": 10
        },
        {
          "output_type": "display_data",
          "data": {
            "text/plain": [
              "<Figure size 432x288 with 2 Axes>"
            ],
            "image/png": "[encoded data removed]"
          },
          "metadata": {
            "needs_background": "light"
          }
        }
      ]
    },
    {
      "cell_type": "code",
      "source": [
        "\"\"\"\n",
        "Q5. Find the predicted output for unknown input value using linear\n",
        "regression coefficients and print it(for own dataset).\n",
        "\"\"\"\n",
        "x_new = float(input(\"Enter the value of x : \"))\n",
        "y_new = b0 + b1 * x_new\n",
        "print(\"predicted value for given x value is : \", y_new)"
      ],
      "metadata": {
        "colab": {
          "base_uri": "https://localhost:8080/"
        },
        "id": "bbadxU5pLDb5",
        "outputId": "b6bf1390-b22a-4e25-ec90-e153c2d57583"
      },
      "execution_count": 11,
      "outputs": [
        {
          "output_type": "stream",
          "name": "stdout",
          "text": [
            "Enter the value of x : 77\n",
            "predicted value for given x value is :  -0.7164179104477606\n"
          ]
        }
      ]
    },
    {
      "cell_type": "code",
      "source": [
        "\"\"\"\n",
        "Q6. Create your own Pandas Series and DataFrame and print it.\n",
        "\"\"\"\n",
        "import pandas as pd\n",
        "s1 = [98, 43, 25, 11, 48, 98, 90, 56]\n",
        "ps1 = pd.Series(s1)\n",
        "print('ps1 \\n :', ps1)\n",
        "s2 = {'Name':['Yash','Nitesh','Vishwajeet','Rushikesh'],\n",
        "      'Sport':['cricket','football','badminton','chess']}\n",
        "DF = pd.DataFrame(s2)\n",
        "print('DF \\n', DF)"
      ],
      "metadata": {
        "colab": {
          "base_uri": "https://localhost:8080/"
        },
        "id": "pFxwV_5jLtwC",
        "outputId": "6b81be31-5a05-43bd-cfd5-6542a8f4d0db"
      },
      "execution_count": 12,
      "outputs": [
        {
          "output_type": "stream",
          "name": "stdout",
          "text": [
            "ps1 \n",
            " : 0    98\n",
            "1    43\n",
            "2    25\n",
            "3    11\n",
            "4    48\n",
            "5    98\n",
            "6    90\n",
            "7    56\n",
            "dtype: int64\n",
            "DF \n",
            "          Name      Sport\n",
            "0        Yash    cricket\n",
            "1      Nitesh   football\n",
            "2  Vishwajeet  badminton\n",
            "3   Rushikesh      chess\n"
          ]
        }
      ]
    },
    {
      "cell_type": "code",
      "source": [
        "\"\"\"\n",
        "Q7. Read the insu.csv file using Pandas library. Print the head values. Print\n",
        "the column values(CSV file is attached herewith).\n",
        "\"\"\"\n",
        "import pandas as pd\n",
        "csv = pd.read_csv('directory of csv file') # put the file path\n",
        "csv.head()"
      ],
      "metadata": {
        "id": "Hk-yW8PnN88G"
      },
      "execution_count": null,
      "outputs": []
    },
    {
      "cell_type": "code",
      "source": [
        "\"\"\"\n",
        "Q8. Find the linear regression coefficients for given file and print the\n",
        "values.\n",
        "\"\"\"\n",
        "X, Y = csv['X_Data'], csv['Y']\n",
        "print(X[0:62], Y[0:62])\n",
        "\n",
        "# Mean\n",
        "def mean(values):\n",
        "  return(sum(values)/len(values))\n",
        "X_mean = mean(X)\n",
        "Y_mean = mean(Y)\n",
        "print('mean of x : ', X_mean)\n",
        "print('mean of y : ', Y_mean)\n",
        "\n",
        "# Covariance\n",
        "def covar(X,X_mean,Y,Y_mean):\n",
        "  cov = 0.0\n",
        "  for i in range(len(X)):\n",
        "    cov += (X[i]-X_mean)*(Y[i]-Y_mean)\n",
        "  return cov\n",
        "cv = covar(X, X_mean, Y, Y_mean)\n",
        "print('co-variance between X and Y is : ', cv)\n",
        "\n",
        "# Variance\n",
        "def variance(values, mean):\n",
        "  return sum([(X-mean)**2 for X in values])\n",
        "print('variance of X is : ', variance(X, X_mean))\n",
        "\n",
        "# Coefficients\n",
        "def coefficients(myDataset):\n",
        "  X = [row[0] for row in myDataset]\n",
        "  Y = [row[1] for row in myDataset]\n",
        "  X_mean, Y_mean = mean(X), mean(Y)\n",
        "  b1 = covar(X, X_mean, Y, Y_mean) / variance(X, X_mean)\n",
        "  b0 = Y_mean-b1*X_mean\n",
        "  return [b0, b1]\n",
        "b0, b1 = coefficients(myDataset)\n",
        "print('coefficient : b0=%.3f, b1=%.3f' % (b0, b1))"
      ],
      "metadata": {
        "id": "mPT3VgwVM7zn"
      },
      "execution_count": null,
      "outputs": []
    },
    {
      "cell_type": "code",
      "source": [
        "\"\"\"\n",
        "Q9. Plot the variables containing the values from csv file. Also plot the\n",
        "linear regression line using coefficients.\n",
        "\"\"\"\n",
        "from matplotlib import pyplot as plt\n",
        "plt.subplot(2,2,1)\n",
        "plt.plot(X, Y,'rv')\n",
        "\n",
        "# linear regression\n",
        "import numpy as np\n",
        "YN = np.zeros(len(X))\n",
        "for i in range(len(X)):\n",
        "  YN[i] = b0 + b1 * (X[i])\n",
        "plt.subplot(2,2,2)\n",
        "plt.scatter(X,Y)\n",
        "plt.plot(X, YN, 'r--')\n",
        "plt.xlabel('X_Data')\n",
        "plt.ylabel('Y')\n",
        "plt.title('linear regression')"
      ],
      "metadata": {
        "id": "7MERmuVRQ85A"
      },
      "execution_count": null,
      "outputs": []
    },
    {
      "cell_type": "code",
      "source": [
        "\"\"\"\n",
        "Q10. Find the predicted output for unknown input values using linear\n",
        "regression coefficients and print it(for insu.csv dataset).\n",
        "\"\"\"\n",
        "X_new = float(input(\"Enter the value of x : \"))\n",
        "Y_new = b0 + b1 * X_new\n",
        "print(\"predicted value for given x value is : \", Y_new)"
      ],
      "metadata": {
        "id": "FNtDeRGpR_TN"
      },
      "execution_count": null,
      "outputs": []
    }
  ]
}