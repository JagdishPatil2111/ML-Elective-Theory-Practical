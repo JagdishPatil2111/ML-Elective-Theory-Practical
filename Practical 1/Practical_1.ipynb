{
  "nbformat": 4,
  "nbformat_minor": 0,
  "metadata": {
    "colab": {
      "name": "Practical 1.ipynb",
      "provenance": []
    },
    "kernelspec": {
      "name": "python3",
      "display_name": "Python 3"
    },
    "language_info": {
      "name": "python"
    }
  },
  "cells": [
    {
      "cell_type": "code",
      "execution_count": 1,
      "metadata": {
        "colab": {
          "base_uri": "https://localhost:8080/"
        },
        "id": "AOdP5q_DcIcH",
        "outputId": "28c5785b-1841-47be-9b4b-9b1125584d06"
      },
      "outputs": [
        {
          "output_type": "stream",
          "name": "stdout",
          "text": [
            "[[1 2]\n",
            " [3 4]]\n",
            "[[ 3  4  5]\n",
            " [ 6  7  8]\n",
            " [ 9 10 11]]\n"
          ]
        }
      ],
      "source": [
        "\"\"\"\n",
        "Q1. Define the multi-dimensional array (2x2 and 3x3) using numpy library and\n",
        "perform various operations on it (addition, substraction, element-wise \n",
        "multiplication, matrix multiplication) without in-built functions.\n",
        "\"\"\"\n",
        "import numpy as np\n",
        "# 2x2 matrix\n",
        "a = np.array([[1,2],[3,4]])\n",
        "# 3x3 matrix\n",
        "b = np.array([[3,4,5],[6,7,8],[9,10,11]])\n",
        "print(a)\n",
        "print(b)\n",
        "\n",
        "# Addition\n",
        "c = [[1,2,3],[4,5,6],[7,8,9]]\n",
        "d = [[1,2,3],[4,5,6],[7,8,9]]\n",
        "print(\"Addition:\",c+d)\n",
        "\n",
        "# Substraction\n",
        "sub = c-d\n",
        "print(\"Substraction:\", sub)\n",
        "\n",
        "# Element-wise Multiplication\n",
        "output = np.multiply(c,d)\n",
        "print(\"Element-wise Multiplication:\",output)\n",
        "\n",
        "#Matrix Multiplication\n",
        "mat_multiple = np.dot(c,d)\n",
        "print(\"Matrix Multiplication:\",mat_multiple)"
      ]
    },
    {
      "cell_type": "code",
      "source": [
        "\"\"\"\n",
        "Q2. Write a python program to generate dictionary which consists of first 20\n",
        "natural numbers as a key. The even number keys must have sqaure of the number as\n",
        "value while odd number key must have cube of number as value. Print dictionary.\n",
        "\"\"\"\n",
        "ydict = {}\n",
        "for i in range(1,21):\n",
        "  if i%2 == 0:\n",
        "    ydict[i] = i**2\n",
        "  else:\n",
        "    ydict[i] = i\n",
        "print(ydict)"
      ],
      "metadata": {
        "colab": {
          "base_uri": "https://localhost:8080/"
        },
        "id": "RLTUlxpesJSR",
        "outputId": "75c6a9f3-9f06-4a4e-b524-9d8fe0af0ae8"
      },
      "execution_count": 7,
      "outputs": [
        {
          "output_type": "stream",
          "name": "stdout",
          "text": [
            "{1: 1, 2: 4, 3: 3, 4: 16, 5: 5, 6: 36, 7: 7, 8: 64, 9: 9, 10: 100, 11: 11, 12: 144, 13: 13, 14: 196, 15: 15, 16: 256, 17: 17, 18: 324, 19: 19, 20: 400}\n"
          ]
        }
      ]
    },
    {
      "cell_type": "code",
      "source": [
        "\"\"\"\n",
        "Q3. Define two variables having functional dependency. Plot three graphs(simple\n",
        "plot, scatter plot and bar graph) between two variables using matplotlib.\n",
        "\"\"\"\n",
        "import numpy as np\n",
        "import matplotlib.pyplot as plt\n",
        "\n",
        "a = np.array([11,22,33,44,55,66,77])\n",
        "y1 = 3*a**2 - 2\n",
        "\n",
        "plt.subplot(2,2,1)\n",
        "plt.plot(a, y1)\n",
        "plt.subplot(2,2,2)\n",
        "plt.scatter(a, y1)\n",
        "plt.subplot(2,2,3)\n",
        "plt.bar(a, y1)"
      ],
      "metadata": {
        "colab": {
          "base_uri": "https://localhost:8080/",
          "height": 282
        },
        "id": "GBr3q876uGL6",
        "outputId": "e1a62890-7737-4c27-d8ac-be759c187364"
      },
      "execution_count": 8,
      "outputs": [
        {
          "output_type": "execute_result",
          "data": {
            "text/plain": [
              "<BarContainer object of 7 artists>"
            ]
          },
          "metadata": {},
          "execution_count": 8
        },
        {
          "output_type": "display_data",
          "data": {
            "text/plain": [
              "<Figure size 432x288 with 3 Axes>"
            ],
            "image/png": "[encoded data removed]"
          },
          "metadata": {
            "needs_background": "light"
          }
        }
      ]
    }
  ]
}